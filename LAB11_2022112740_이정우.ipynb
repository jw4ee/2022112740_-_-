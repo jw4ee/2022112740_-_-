{
 "cells": [
  {
   "cell_type": "code",
   "execution_count": 15,
   "id": "deeec9c5",
   "metadata": {},
   "outputs": [
    {
     "data": {
      "text/plain": [
       "array([0, 1, 2, 3, 4, 5, 6, 7, 8, 9])"
      ]
     },
     "execution_count": 15,
     "metadata": {},
     "output_type": "execute_result"
    }
   ],
   "source": [
    "import numpy as np #LAB 11-1(1)\n",
    "\n",
    "a = np.array([0, 1, 2, 3, 4, 5, 6, 7, 8, 9])\n",
    "a"
   ]
  },
  {
   "cell_type": "code",
   "execution_count": 14,
   "id": "c8fa3844",
   "metadata": {},
   "outputs": [
    {
     "data": {
      "text/plain": [
       "array([0, 1, 2, 3, 4, 5, 6, 7, 8, 9])"
      ]
     },
     "execution_count": 14,
     "metadata": {},
     "output_type": "execute_result"
    }
   ],
   "source": [
    "import numpy as np #LAB11-1(2)\n",
    "\n",
    "b = np.array(list(range(0, 10)))\n",
    "b"
   ]
  },
  {
   "cell_type": "code",
   "execution_count": 12,
   "id": "e610a47a",
   "metadata": {},
   "outputs": [
    {
     "data": {
      "text/plain": [
       "array([0, 2, 4, 6, 8])"
      ]
     },
     "execution_count": 12,
     "metadata": {},
     "output_type": "execute_result"
    }
   ],
   "source": [
    "import numpy as np #LAB11-1(3)\n",
    "\n",
    "c = np.array(list(range(0, 10, 2)))\n",
    "c"
   ]
  },
  {
   "cell_type": "code",
   "execution_count": 13,
   "id": "ed801fef",
   "metadata": {},
   "outputs": [
    {
     "name": "stdout",
     "output_type": "stream",
     "text": [
      "c.shape = (5,)\n",
      "c.ndim = 1\n",
      "c.dtype = int64\n",
      "c.size = 5\n",
      "c.itemsize = 8\n"
     ]
    }
   ],
   "source": [
    "import numpy as np #LAB11-1(4)\n",
    "\n",
    "c = np.array(list(range(0, 10, 2)), dtype = 'int64')\n",
    "\n",
    "print('c.shape =', c.shape)\n",
    "print('c.ndim =', c.ndim)\n",
    "print('c.dtype =', c.dtype)\n",
    "print('c.size =', c.size)\n",
    "print('c.itemsize =', c.itemsize)\n"
   ]
  },
  {
   "cell_type": "code",
   "execution_count": 59,
   "id": "9c34e60b",
   "metadata": {},
   "outputs": [
    {
     "name": "stdout",
     "output_type": "stream",
     "text": [
      "a = array( [23 45 67  7  2 30 34 82] )\n",
      "\n",
      "최댓값 : 82\n",
      "최솟값 : 2\n",
      "평균 : 36.25\n",
      "\n",
      "b = [25 13 79  2 88 71 60 90 20 26]\n",
      "최댓값 : 90\n",
      "최솟값 : 2\n",
      "평균 : 47.4\n",
      "\n",
      "c = [23 45 67  7  2 30 34 82 25 13 79  2 88 71 60 90 20 26]\n"
     ]
    }
   ],
   "source": [
    "import numpy as np #LAB11-2\n",
    "import random\n",
    "\n",
    "a = np.array([23, 45, 67, 7, 2, 30, 34, 82])\n",
    "print('a = array(', a, ')')\n",
    "\n",
    "print()\n",
    "print('최댓값 :', a.max())\n",
    "print('최솟값 :', a.min())\n",
    "print('평균 :', a.mean())\n",
    "\n",
    "print()\n",
    "b = np.random.randint(0, 100, size = 10)\n",
    "print('b =', b)\n",
    "print('최댓값 :', b.max())\n",
    "print('최솟값 :', b.min())\n",
    "print('평균 :', b.mean())\n",
    "\n",
    "print()\n",
    "c = np.append(a, b)\n",
    "print('c =', c)"
   ]
  },
  {
   "cell_type": "code",
   "execution_count": 44,
   "id": "4c1d1c13",
   "metadata": {},
   "outputs": [
    {
     "name": "stdout",
     "output_type": "stream",
     "text": [
      "a = [[1 2 3]\n",
      " [4 5 6]\n",
      " [7 8 9]]\n",
      "b = [[2 2 2]\n",
      " [2 2 2]\n",
      " [2 2 2]]\n",
      "[[ 3  4  5]\n",
      " [ 6  7  8]\n",
      " [ 9 10 11]]\n",
      "[[-1  0  1]\n",
      " [ 2  3  4]\n",
      " [ 5  6  7]]\n",
      "[[ 2  4  6]\n",
      " [ 8 10 12]\n",
      " [14 16 18]]\n",
      "[[0.5 1.  1.5]\n",
      " [2.  2.5 3. ]\n",
      " [3.5 4.  4.5]]\n",
      "[[12 12 12]\n",
      " [30 30 30]\n",
      " [48 48 48]]\n",
      "[[ 1  4  9]\n",
      " [16 25 36]\n",
      " [49 64 81]]\n"
     ]
    }
   ],
   "source": [
    "import numpy as np #LAB11-3\n",
    "\n",
    "a = np.array([[1, 2, 3], [4, 5, 6], [7, 8, 9]])\n",
    "print('a =', a)\n",
    "\n",
    "b = np.array([[2, 2, 2], [2, 2, 2], [2, 2, 2]])\n",
    "print('b =', b)\n",
    "\n",
    "print(a + b)\n",
    "print(a - b)\n",
    "print(a * b)\n",
    "print(a / b)\n",
    "print(a @ b)\n",
    "print(a ** b)"
   ]
  },
  {
   "cell_type": "code",
   "execution_count": 49,
   "id": "baaf2638",
   "metadata": {},
   "outputs": [
    {
     "name": "stdout",
     "output_type": "stream",
     "text": [
      "a1 = [[2 2 2]\n",
      " [2 2 2]\n",
      " [2 2 2]]\n",
      "\n",
      "a2 = [ 1  2  3  4  5  6  7  8  9 10 11 12]\n",
      "\n",
      "a3 = [ 0  3  6  9 12 15 18 21 24 27 30 33 36 39 42 45 48]\n",
      "\n",
      "a4 = [ 0.  5. 10. 15. 20.]\n"
     ]
    }
   ],
   "source": [
    "import numpy as np #LAB11-4\n",
    "\n",
    "a1 = np.full((3, 3), 2)\n",
    "print('a1 =', a1)\n",
    "\n",
    "print()\n",
    "a2 = np.arange(1, 13)\n",
    "print('a2 =', a2)\n",
    "\n",
    "print()\n",
    "a3 = np.arange(0, 51, 3)\n",
    "print('a3 =', a3)\n",
    "\n",
    "print()\n",
    "a4 = np.linspace(0, 20, 5)\n",
    "print('a4 =', a4)\n",
    "\n"
   ]
  },
  {
   "cell_type": "code",
   "execution_count": 54,
   "id": "2cff8715",
   "metadata": {},
   "outputs": [
    {
     "name": "stdout",
     "output_type": "stream",
     "text": [
      "a1 = [[ 1  2  3  4  5  6]\n",
      " [ 7  8  9 10 11 12]]\n",
      "\n",
      "a2 = [[ 1  2  3  4  5  6  7  8  9 10]\n",
      " [11 12 13 14 15 16 17 18 19 20]\n",
      " [21 22 23 24 25 26 27 28 29 30]]\n",
      "\n",
      "a3 = [[ 1  2  3  4  5]\n",
      " [ 6  7  8  9 10]\n",
      " [11 12 13 14 15]\n",
      " [16 17 18 19 20]\n",
      " [21 22 23 24 25]\n",
      " [26 27 28 29 30]]\n",
      "\n",
      "a4 = [[ 1  6 11 16 21 26]\n",
      " [ 2  7 12 17 22 27]\n",
      " [ 3  8 13 18 23 28]\n",
      " [ 4  9 14 19 24 29]\n",
      " [ 5 10 15 20 25 30]]\n"
     ]
    }
   ],
   "source": [
    "import numpy as np #LAB11-5\n",
    "\n",
    "a1 = np.arange(1, 13)\n",
    "print('a1 =', a1.reshape(2, 6))\n",
    "\n",
    "print()\n",
    "a2 = np.arange(1, 31)\n",
    "print('a2 =', a2.reshape(3, 10))\n",
    "\n",
    "print()\n",
    "a3 = a2.reshape(6, 5)\n",
    "print('a3 =', a3)\n",
    "\n",
    "print()\n",
    "a4 = np.transpose(a3)\n",
    "print('a4 =', a4)\n",
    "\n",
    "\n"
   ]
  },
  {
   "cell_type": "code",
   "execution_count": 57,
   "id": "9405dbd3",
   "metadata": {},
   "outputs": [
    {
     "name": "stdout",
     "output_type": "stream",
     "text": [
      "a = [[ 8 90 62 80 33]\n",
      " [ 7 37 27 52 66]\n",
      " [35 39 86 82 77]]\n",
      "\n",
      "a의 열방향 최댓값 : [35 90 86 82 77]\n",
      "a의 열방향 최솟값 : [ 7 37 27 52 33]\n",
      "a의 열방향 평균 : [16.66666667 55.33333333 58.33333333 71.33333333 58.66666667]\n",
      "\n",
      "a의 행방향 최댓값 : [90 66 86]\n",
      "a의 행방향 최솟값 : [ 8  7 35]\n",
      "a의 행방향 평균 : [54.6 37.8 63.8]\n"
     ]
    }
   ],
   "source": [
    "import numpy as np #LAB11-6              \n",
    "import random\n",
    "\n",
    "a = np.random.randint(1, 101, size = 15).reshape(3, 5)\n",
    "print('a =', a)\n",
    "\n",
    "print()\n",
    "print('a의 열방향 최댓값 :', a.max(axis = 0))\n",
    "print('a의 열방향 최솟값 :', a.min(axis = 0))\n",
    "print('a의 열방향 평균 :', a.mean(axis = 0))\n",
    "\n",
    "print()\n",
    "print('a의 행방향 최댓값 :', a.max(axis = 1))\n",
    "print('a의 행방향 최솟값 :', a.min(axis = 1))\n",
    "print('a의 행방향 평균 :', a.mean(axis = 1))"
   ]
  },
  {
   "cell_type": "code",
   "execution_count": 64,
   "id": "ab5997f7",
   "metadata": {},
   "outputs": [
    {
     "name": "stdout",
     "output_type": "stream",
     "text": [
      "a = [ 1  2  3  4  5  6  7  8  9 10]\n",
      "b = [2 4 6 8]\n",
      "\n",
      "b = [ 6  7  8  9 10]\n",
      "c = [ 7  8  9 10]\n",
      "d = [1 2 3]\n",
      "e = [1 3 5 7 9]\n",
      "f = [10  8  6  4  2]\n"
     ]
    }
   ],
   "source": [
    "import numpy as np #LAB11-7\n",
    "\n",
    "a = np.arange(1, 11)\n",
    "b = a[1:9:2]\n",
    "print('a =', a)\n",
    "print('b =', b)\n",
    "\n",
    "print()\n",
    "b = a[5:10]\n",
    "c = a[6:10]\n",
    "d = a[0:3]\n",
    "e = a[0:10:2]\n",
    "f = a[::-2]\n",
    "print('b =', b)\n",
    "print('c =', c)\n",
    "print('d =', d)\n",
    "print('e =', e)\n",
    "print('f =', f)\n"
   ]
  },
  {
   "cell_type": "code",
   "execution_count": 85,
   "id": "bcb69083",
   "metadata": {},
   "outputs": [
    {
     "name": "stdout",
     "output_type": "stream",
     "text": [
      "index     element\n",
      "(0, 0, 0)   0\n",
      "(0, 0, 1)   1\n",
      "(0, 1, 0)   2\n",
      "(0, 1, 1)   3\n",
      "(0, 2, 0)   4\n",
      "(0, 2, 1)   5\n",
      "(1, 0, 0)   6\n",
      "(1, 0, 1)   7\n",
      "(1, 1, 0)   8\n",
      "(1, 1, 1)   9\n",
      "(1, 2, 0)   10\n",
      "(1, 2, 1)   11\n",
      "(2, 0, 0)   12\n",
      "(2, 0, 1)   13\n",
      "(2, 1, 0)   14\n",
      "(2, 1, 1)   15\n",
      "(2, 2, 0)   16\n",
      "(2, 2, 1)   17\n",
      "(3, 0, 0)   18\n",
      "(3, 0, 1)   19\n",
      "(3, 1, 0)   20\n",
      "(3, 1, 1)   21\n",
      "(3, 2, 0)   22\n",
      "(3, 2, 1)   23\n",
      "\n",
      "array([0, 1, 6, 7])\n",
      "\n",
      "array([ 0,  1, 14, 15])\n",
      "\n",
      "array([[ 0,  1],\n",
      "       [ 2,  3],\n",
      "       [ 4,  5],\n",
      "       [ 6,  7],\n",
      "       [ 8,  9],\n",
      "       [10, 11]])\n",
      "\n",
      "array([[ 0,  1,  6,  7],\n",
      "       [ 2,  3,  8,  9],\n",
      "       [ 4,  5, 10, 11]])\n"
     ]
    }
   ],
   "source": [
    "import numpy as np #LAB11-8\n",
    "\n",
    "print('index     element')\n",
    "a = np.arange(0, 24).reshape(4, 3, 2)\n",
    "for i in range(4):\n",
    "    for j in range(3):\n",
    "        for k in range(2):\n",
    "            print('({}, {}, {})   {}'.format(i, j, k, a[i][j][k]))\n",
    "\n",
    "print()\n",
    "print(repr(np.concatenate((a[0, 0], a[1, 0]), axis = 0)))\n",
    "\n",
    "print()\n",
    "print(repr(np.concatenate((a[0, 0], a[2, 1]), axis = 0)))\n",
    "\n",
    "print()\n",
    "print(repr(np.concatenate((a[0, 0], a[0, 1], a[0, 2], a[1, 0], a[1, 1], a[1, 2]), axis = 0).reshape(6, 2)))\n",
    "    \n",
    "print()\n",
    "print(repr(np.concatenate((a[0, 0], a[1, 0], a[0, 1], a[1, 1], a[0, 2], a[1, 2]), axis = 0).reshape(3, 4)))"
   ]
  },
  {
   "cell_type": "code",
   "execution_count": 93,
   "id": "6786117e",
   "metadata": {},
   "outputs": [
    {
     "name": "stdout",
     "output_type": "stream",
     "text": [
      "b = [ 1  5  9 13]\n",
      "c = [ 9 10 11]\n",
      "d = [[0 1]\n",
      " [4 5]]\n",
      "e = [[ 5  6]\n",
      " [ 9 10]]\n",
      "\n",
      "f = [0 1 2 4 5 6]\n",
      "g = [ 8  9 10 11 12 13 14 15]\n",
      "h = [ 5  6  7 13 14 15]\n"
     ]
    }
   ],
   "source": [
    "import numpy as np #LAB11-9\n",
    "\n",
    "a = np.arange(0, 16).reshape(4, 4)\n",
    "b = a[:, 1]\n",
    "c = a[2, 1:]\n",
    "d = a[0:2, 0:2]\n",
    "e = a[1:3, 1:3]\n",
    "print('b =', b)\n",
    "print('c =', c)\n",
    "print('d =', d)\n",
    "print('e =', e)\n",
    "\n",
    "print()\n",
    "f = a[0:2, 0:3].flatten()\n",
    "g = a[2:4, 0:4].flatten()\n",
    "h = a[1:4:2, 1:4].flatten()\n",
    "print('f =', f)\n",
    "print('g =', g)\n",
    "print('h =', h)\n"
   ]
  },
  {
   "cell_type": "code",
   "execution_count": 8,
   "id": "178cfc55",
   "metadata": {},
   "outputs": [
    {
     "name": "stdout",
     "output_type": "stream",
     "text": [
      "x = 1.0, y = 2.0, z = 3.0\n"
     ]
    }
   ],
   "source": [
    "import numpy as np #LAB11-10\n",
    "\n",
    "a = np.array([[1, 1, -1], [2, -1, 3], [1, 2, 1]])\n",
    "b = np.array([0, 9, 8])\n",
    "\n",
    "x = np.linalg.solve(a, b)\n",
    "print('x = {}, y = {}, z = {}'.format(round(x[0], 0), round(x[1], 0), round(x[2], 0)))"
   ]
  }
 ],
 "metadata": {
  "kernelspec": {
   "display_name": "Python 3 (ipykernel)",
   "language": "python",
   "name": "python3"
  },
  "language_info": {
   "codemirror_mode": {
    "name": "ipython",
    "version": 3
   },
   "file_extension": ".py",
   "mimetype": "text/x-python",
   "name": "python",
   "nbconvert_exporter": "python",
   "pygments_lexer": "ipython3",
   "version": "3.9.12"
  }
 },
 "nbformat": 4,
 "nbformat_minor": 5
}
